{
 "cells": [
  {
   "cell_type": "markdown",
   "id": "164153dc",
   "metadata": {},
   "source": [
    "# Soil classification based on images using CNN"
   ]
  },
  {
   "cell_type": "code",
   "execution_count": 1,
   "id": "7f77345a",
   "metadata": {},
   "outputs": [],
   "source": [
    "#importing the essentials libraries \n",
    "import tensorflow as tf\n",
    "from tensorflow import keras\n",
    "from tensorflow.keras import layers\n",
    "from tensorflow.keras.models import Sequential\n",
    "from tensorflow.keras.preprocessing.image import ImageDataGenerator  #for imagedata generation\n",
    "from sklearn.metrics import accuracy_score, f1_score, classification_report, confusion_matrix\n"
   ]
  },
  {
   "cell_type": "code",
   "execution_count": 2,
   "id": "266b8420",
   "metadata": {},
   "outputs": [],
   "source": [
    "#Organizing the dataset into two directories: one for training images and one for testing images.\n",
    "#Each directory  have subdirectories for each class (e.g., red soil, black soil).\n",
    "\n",
    "train_data_gen = ImageDataGenerator(         # to preprocess and augment data (e.g., scaling, flipping, rotation).\n",
    "    rescale=1.0 / 255,\n",
    "    rotation_range=20,\n",
    "    width_shift_range=0.2,\n",
    "    height_shift_range=0.2,\n",
    "    shear_range=0.2,\n",
    "    zoom_range=0.2,\n",
    "    horizontal_flip=True,\n",
    "    fill_mode='nearest'\n",
    ")\n",
    "\n",
    "test_data_gen = ImageDataGenerator(rescale=1.0 / 255)\n"
   ]
  },
  {
   "cell_type": "code",
   "execution_count": 3,
   "id": "aabf3d32",
   "metadata": {},
   "outputs": [
    {
     "name": "stdout",
     "output_type": "stream",
     "text": [
      "Found 1214 images belonging to 4 classes.\n",
      "Found 339 images belonging to 4 classes.\n"
     ]
    }
   ],
   "source": [
    "train_generator =  train_data_gen.flow_from_directory('C:\\\\Users\\\\HP\\\\OneDrive\\\\Desktop\\\\Dataset\\\\Train'    #path of train data \n",
    "\n",
    "\n",
    "    ,\n",
    "    target_size=(224, 224),  #adjusting the image size\n",
    "    batch_size=32,             \n",
    "    class_mode='categorical'\n",
    ")\n",
    "\n",
    "test_generator = test_data_gen.flow_from_directory('C:\\\\Users\\\\HP\\\\OneDrive\\\\Desktop\\\\Dataset\\\\test'   #path of test data \n",
    "    ,\n",
    "    target_size=(224, 224),   #adjusting the image size\n",
    "    batch_size=32,\n",
    "    class_mode='categorical'\n",
    ")\n"
   ]
  },
  {
   "cell_type": "code",
   "execution_count": 4,
   "id": "21247afa",
   "metadata": {},
   "outputs": [],
   "source": [
    "#define the model\n",
    "model = Sequential([\n",
    "    layers.Conv2D(32, (3, 3), activation='relu', input_shape=(224, 224, 3)), #convolution layer + activation function\n",
    "    layers.MaxPooling2D(2, 2),                                               #pooling layer\n",
    "    layers.Conv2D(64, (3, 3), activation='relu'),\n",
    "    layers.MaxPooling2D(2, 2),\n",
    "    layers.Conv2D(128, (3, 3), activation='relu'),\n",
    "    layers.MaxPooling2D(2, 2),\n",
    "    layers.Flatten(),                                                           #Flatten layer\n",
    "    layers.Dense(128, activation='relu'),\n",
    "    layers.Dense(4, activation='softmax')\n",
    "])\n"
   ]
  },
  {
   "cell_type": "code",
   "execution_count": 5,
   "id": "23ffd5a7",
   "metadata": {},
   "outputs": [],
   "source": [
    "#using adam optimizer \n",
    "#compile the model\n",
    "model.compile(optimizer='adam', loss='categorical_crossentropy', metrics=['accuracy'])\n"
   ]
  },
  {
   "cell_type": "code",
   "execution_count": null,
   "id": "2a35c0cf",
   "metadata": {},
   "outputs": [
    {
     "name": "stdout",
     "output_type": "stream",
     "text": [
      "Epoch 1/10\n",
      "38/38 [==============================] - 107s 3s/step - loss: 1.1850 - accuracy: 0.5832 - val_loss: 0.6722 - val_accuracy: 0.7198\n",
      "Epoch 2/10\n",
      "38/38 [==============================] - 83s 2s/step - loss: 0.4983 - accuracy: 0.8031 - val_loss: 0.4446 - val_accuracy: 0.8142\n",
      "Epoch 3/10\n",
      "38/38 [==============================] - 84s 2s/step - loss: 0.4694 - accuracy: 0.7932 - val_loss: 0.3831 - val_accuracy: 0.8112\n",
      "Epoch 4/10\n",
      " 7/38 [====>.........................] - ETA: 1:02 - loss: 0.4621 - accuracy: 0.7857"
     ]
    }
   ],
   "source": [
    "#training the model\n",
    "model.fit(train_generator, epochs=10, validation_data=test_generator)\n"
   ]
  },
  {
   "cell_type": "code",
   "execution_count": null,
   "id": "962c363a",
   "metadata": {},
   "outputs": [],
   "source": [
    "#evaluation of the model\n",
    "test_loss, test_accuracy = model.evaluate(test_generator)\n",
    "print(f\"Test accuracy: {test_accuracy}\")\n"
   ]
  },
  {
   "cell_type": "code",
   "execution_count": null,
   "id": "42bcc918",
   "metadata": {},
   "outputs": [],
   "source": [
    "# Save the trained model in the TensorFlow SavedModel format\n",
    "tf.saved_model.save(model, 'soil_classification_model')\n",
    "\n"
   ]
  },
  {
   "cell_type": "code",
   "execution_count": null,
   "id": "5c297953",
   "metadata": {},
   "outputs": [],
   "source": [
    "# Load the SavedModel using tf.saved_model.load\n",
    "loaded_model = tf.saved_model.load('soil_classification_model')\n"
   ]
  },
  {
   "cell_type": "code",
   "execution_count": null,
   "id": "30b4c9c9",
   "metadata": {},
   "outputs": [],
   "source": [
    "# Save the trained model in the native Keras format\n",
    "model.save('soil_classification_model.keras')\n"
   ]
  },
  {
   "cell_type": "code",
   "execution_count": null,
   "id": "42575c0e",
   "metadata": {},
   "outputs": [],
   "source": [
    "import tensorflow as tf\n",
    "\n",
    "# Load the trained model\n",
    "model = tf.keras.models.load_model('soil_classification_model.keras')\n"
   ]
  },
  {
   "cell_type": "code",
   "execution_count": null,
   "id": "4f2372fe",
   "metadata": {},
   "outputs": [],
   "source": [
    "from tensorflow.keras.preprocessing.image import ImageDataGenerator\n",
    "\n",
    "# constants for testing\n",
    "BATCH_SIZE = 32 \n",
    "IMAGE_SIZE = (224, 224)  #  match the image size used during training\n",
    "\n",
    "# data generator for the testing data\n",
    "test_data_gen = ImageDataGenerator(rescale=1.0 / 255)\n",
    "\n",
    "test_generator = test_data_gen.flow_from_directory(\n",
    "    'C:\\\\Users\\\\HP\\\\OneDrive\\\\Desktop\\\\Dataset\\\\test',  # path to testing data\n",
    "    target_size=IMAGE_SIZE,\n",
    "    batch_size=BATCH_SIZE,\n",
    "    class_mode='categorical',\n",
    "    shuffle=False  # to ensure predictions match filenames\n",
    ")\n",
    "\n",
    "# predictions on the testing data\n",
    "predictions = model.predict(test_generator)\n",
    "\n",
    "\n",
    "# Convert class probabilities to class labels\n",
    "predicted_classes = predictions.argmax(axis=1)\n",
    "class_names = list(test_generator.class_indices.keys())  # Get class names\n",
    "for i, filename in enumerate(test_generator.filenames):\n",
    "    print(f\"File: {filename}, Predicted Class: {class_names[predicted_classes[i]]}\")\n"
   ]
  },
  {
   "cell_type": "code",
   "execution_count": null,
   "id": "d51056cf",
   "metadata": {},
   "outputs": [],
   "source": [
    "true_labels = test_generator.classes\n",
    "\n",
    "#  accuracy\n",
    "accuracy = accuracy_score(true_labels, predicted_classes)\n",
    "\n",
    "#  F1 score\n",
    "f1 = f1_score(true_labels, predicted_classes, average='weighted')\n",
    "\n",
    "# classification report with precision, recall, and F1 score for each class\n",
    "report = classification_report(true_labels, predicted_classes, target_names=class_names)\n",
    "\n",
    "# Create a confusion matrix\n",
    "confusion = confusion_matrix(true_labels, predicted_classes)\n",
    "\n",
    "print(f\"Test Accuracy: {accuracy}\")\n",
    "print(f\"F1 Score (weighted): {f1}\")\n",
    "print(\"Confusion Matrix:\")\n",
    "print(confusion)\n",
    "print(\"Classification Report:\")\n",
    "print(report)\n"
   ]
  },
  {
   "cell_type": "code",
   "execution_count": null,
   "id": "c9b6117f",
   "metadata": {},
   "outputs": [],
   "source": [
    "import tensorflow as tf\n",
    "from tensorflow.keras.preprocessing.image import load_img, img_to_array\n",
    "import numpy as np  # Import NumPy\n",
    "\n",
    "# Load the trained model\n",
    "model = tf.keras.models.load_model('soil_classification_model.keras')\n",
    "\n",
    "# Load and preprocess a new image\n",
    "new_image = load_img(r\"C:\\Users\\HP\\Downloads\\as.jpeg\", target_size=(224, 224))\n",
    "new_image = img_to_array(new_image)\n",
    "new_image = new_image / 255.0  # Normalize the pixel values\n",
    "\n",
    "# Expand dimensions to match the input shape of the model \n",
    "new_image = new_image[np.newaxis, ...]  \n",
    "\n",
    "#  prediction\n",
    "predictions = model.predict(new_image)\n",
    "\n",
    "# Convert class probabilities to class label\n",
    "predicted_class = predictions.argmax()\n",
    "\n",
    "class_names = ['Alluvial soil ', '   Black Soil ', 'Clay soil', ' Red soil']    # Define the soil type names\n",
    "\n",
    "predicted_soil_type = class_names[predicted_class]         # Print the predicted soil type\n",
    "print(f\"Predicted Soil Type: {predicted_soil_type}\")"
   ]
  },
  {
   "cell_type": "code",
   "execution_count": null,
   "id": "09cfdaad",
   "metadata": {},
   "outputs": [],
   "source": [
    "\n"
   ]
  },
  {
   "cell_type": "code",
   "execution_count": null,
   "id": "052e092b",
   "metadata": {},
   "outputs": [],
   "source": []
  },
  {
   "cell_type": "code",
   "execution_count": null,
   "id": "ff9828c1",
   "metadata": {},
   "outputs": [],
   "source": []
  },
  {
   "cell_type": "code",
   "execution_count": null,
   "id": "97386657",
   "metadata": {},
   "outputs": [],
   "source": []
  }
 ],
 "metadata": {
  "kernelspec": {
   "display_name": "Python 3 (ipykernel)",
   "language": "python",
   "name": "python3"
  },
  "language_info": {
   "codemirror_mode": {
    "name": "ipython",
    "version": 3
   },
   "file_extension": ".py",
   "mimetype": "text/x-python",
   "name": "python",
   "nbconvert_exporter": "python",
   "pygments_lexer": "ipython3",
   "version": "3.11.4"
  }
 },
 "nbformat": 4,
 "nbformat_minor": 5
}
